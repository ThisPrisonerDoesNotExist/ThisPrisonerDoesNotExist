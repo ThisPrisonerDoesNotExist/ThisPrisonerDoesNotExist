{
 "cells": [
  {
   "cell_type": "code",
   "execution_count": 20,
   "outputs": [
    {
     "data": {
      "text/plain": "           id                   name date_of_birth  weight  \\\n0      A00147       MCCUTCHEON, JOHN    06/14/1949   185.0   \n1      A00220          WALKER, ISIAH    03/30/1957   155.0   \n2      A00360           BELL, HOWARD    12/18/1946   167.0   \n3      A00367        GARVIN, RAYMOND    01/12/1954   245.0   \n4      A01054        TIPTON, DARNELL    03/25/1954   166.0   \n...       ...                    ...           ...     ...   \n61105  Y25363      RANEY, JEFFERY D.    05/15/1986   170.0   \n61106  Y25364  CALDWELL, KIMBERLY D.    02/23/1972   112.0   \n61107  Y25365     WEIGAND, KARLEE R.    06/16/1992   158.0   \n61108  Y25366         CROY, DAVID W.    03/04/1949   220.0   \n61109  Y25367       BROWN, DANDRE R.         06/18     NaN   \n\n                         hair     sex  height   race   eyes admission_date  \\\n0                       Brown    Male    67.0  White   Blue     02/16/1983   \n1                       Black    Male    73.0  Black  Brown     05/19/2016   \n2      Gray or Partially Gray    Male    69.0  White  Green     02/26/1988   \n3                       Black    Male    72.0  Black  Brown     11/09/2017   \n4             Salt and Pepper    Male    67.0  Black  Brown     12/23/1988   \n...                       ...     ...     ...    ...    ...            ...   \n61105                   Brown    Male    71.0  White  Brown     10/25/2017   \n61106                   Brown  Female    62.0  White  Green     10/25/2017   \n61107                   Brown  Female    63.0  White  Brown     10/25/2017   \n61108  Gray or Partially Gray    Male    67.0  White   Blue     10/25/2017   \n61109                     NaN     NaN     NaN    NaN    NaN            NaN   \n\n       ... projected_discharge_date parole_date electronic_detention_date  \\\n0      ...               10/06/2036         NaN                       NaN   \n1      ...                      NaN         NaN                       NaN   \n2      ...         TO BE DETERMINED  10/02/2017                       NaN   \n3      ...               11/20/2020         NaN                       NaN   \n4      ...               08/14/2068         NaN                       NaN   \n...    ...                      ...         ...                       ...   \n61105  ...               07/05/2019  07/05/2018                       NaN   \n61106  ...         TO BE DETERMINED  10/25/2017                       NaN   \n61107  ...               04/07/2020  04/07/2018                       NaN   \n61108  ...               03/22/2025         NaN                       NaN   \n61109  ...                      NaN         NaN                       NaN   \n\n      discharge_date                    parent_institution   offender_status  \\\n0                NaN             DIXON CORRECTIONAL CENTER        IN CUSTODY   \n1                NaN        STATEVILLE CORRECTIONAL CENTER  NON-IDOC CUSTODY   \n2                NaN     PINCKNEYVILLE CORRECTIONAL CENTER            PAROLE   \n3                NaN  WESTERN ILLINOIS CORRECTIONAL CENTER        IN CUSTODY   \n4                NaN            MENARD CORRECTIONAL CENTER        IN CUSTODY   \n...              ...                                   ...               ...   \n61105            NaN      SOUTHWESTERN CORRECTIONAL CENTER            PAROLE   \n61106            NaN             LOGAN CORRECTIONAL CENTER         ABSCONDER   \n61107            NaN            VIENNA CORRECTIONAL CENTER            PAROLE   \n61108            NaN          ROBINSON CORRECTIONAL CENTER        IN CUSTODY   \n61109            NaN                                   NaN               NaN   \n\n                        location sex_offender_registry_required  \\\n0                          DIXON                           True   \n1      ILL/OTH STATE/FED CONCURR                            NaN   \n2              PAROLE DISTRICT 1                            NaN   \n3               WESTERN ILLINOIS                            NaN   \n4                         MENARD                           True   \n...                          ...                            ...   \n61105          PAROLE DISTRICT 5                            NaN   \n61106                     PAROLE                            NaN   \n61107          PAROLE DISTRICT 2                            NaN   \n61108                   ROBINSON                            NaN   \n61109                        NaN                            NaN   \n\n                                                   alias Unnamed: 21  \n0                                                    NaN         NaN  \n1                                                    NaN         NaN  \n2      HOWARD R BELL | DONALD  BROADSTONE | RONALD  B...         NaN  \n3                                                    NaN         NaN  \n4                                                    NaN         NaN  \n...                                                  ...         ...  \n61105                                                NaN         NaN  \n61106                                                NaN         NaN  \n61107                                                NaN         NaN  \n61108                                                NaN         NaN  \n61109                                                NaN         NaN  \n\n[61110 rows x 22 columns]",
      "text/html": "<div>\n<style scoped>\n    .dataframe tbody tr th:only-of-type {\n        vertical-align: middle;\n    }\n\n    .dataframe tbody tr th {\n        vertical-align: top;\n    }\n\n    .dataframe thead th {\n        text-align: right;\n    }\n</style>\n<table border=\"1\" class=\"dataframe\">\n  <thead>\n    <tr style=\"text-align: right;\">\n      <th></th>\n      <th>id</th>\n      <th>name</th>\n      <th>date_of_birth</th>\n      <th>weight</th>\n      <th>hair</th>\n      <th>sex</th>\n      <th>height</th>\n      <th>race</th>\n      <th>eyes</th>\n      <th>admission_date</th>\n      <th>...</th>\n      <th>projected_discharge_date</th>\n      <th>parole_date</th>\n      <th>electronic_detention_date</th>\n      <th>discharge_date</th>\n      <th>parent_institution</th>\n      <th>offender_status</th>\n      <th>location</th>\n      <th>sex_offender_registry_required</th>\n      <th>alias</th>\n      <th>Unnamed: 21</th>\n    </tr>\n  </thead>\n  <tbody>\n    <tr>\n      <th>0</th>\n      <td>A00147</td>\n      <td>MCCUTCHEON, JOHN</td>\n      <td>06/14/1949</td>\n      <td>185.0</td>\n      <td>Brown</td>\n      <td>Male</td>\n      <td>67.0</td>\n      <td>White</td>\n      <td>Blue</td>\n      <td>02/16/1983</td>\n      <td>...</td>\n      <td>10/06/2036</td>\n      <td>NaN</td>\n      <td>NaN</td>\n      <td>NaN</td>\n      <td>DIXON CORRECTIONAL CENTER</td>\n      <td>IN CUSTODY</td>\n      <td>DIXON</td>\n      <td>True</td>\n      <td>NaN</td>\n      <td>NaN</td>\n    </tr>\n    <tr>\n      <th>1</th>\n      <td>A00220</td>\n      <td>WALKER, ISIAH</td>\n      <td>03/30/1957</td>\n      <td>155.0</td>\n      <td>Black</td>\n      <td>Male</td>\n      <td>73.0</td>\n      <td>Black</td>\n      <td>Brown</td>\n      <td>05/19/2016</td>\n      <td>...</td>\n      <td>NaN</td>\n      <td>NaN</td>\n      <td>NaN</td>\n      <td>NaN</td>\n      <td>STATEVILLE CORRECTIONAL CENTER</td>\n      <td>NON-IDOC CUSTODY</td>\n      <td>ILL/OTH STATE/FED CONCURR</td>\n      <td>NaN</td>\n      <td>NaN</td>\n      <td>NaN</td>\n    </tr>\n    <tr>\n      <th>2</th>\n      <td>A00360</td>\n      <td>BELL, HOWARD</td>\n      <td>12/18/1946</td>\n      <td>167.0</td>\n      <td>Gray or Partially Gray</td>\n      <td>Male</td>\n      <td>69.0</td>\n      <td>White</td>\n      <td>Green</td>\n      <td>02/26/1988</td>\n      <td>...</td>\n      <td>TO BE DETERMINED</td>\n      <td>10/02/2017</td>\n      <td>NaN</td>\n      <td>NaN</td>\n      <td>PINCKNEYVILLE CORRECTIONAL CENTER</td>\n      <td>PAROLE</td>\n      <td>PAROLE DISTRICT 1</td>\n      <td>NaN</td>\n      <td>HOWARD R BELL | DONALD  BROADSTONE | RONALD  B...</td>\n      <td>NaN</td>\n    </tr>\n    <tr>\n      <th>3</th>\n      <td>A00367</td>\n      <td>GARVIN, RAYMOND</td>\n      <td>01/12/1954</td>\n      <td>245.0</td>\n      <td>Black</td>\n      <td>Male</td>\n      <td>72.0</td>\n      <td>Black</td>\n      <td>Brown</td>\n      <td>11/09/2017</td>\n      <td>...</td>\n      <td>11/20/2020</td>\n      <td>NaN</td>\n      <td>NaN</td>\n      <td>NaN</td>\n      <td>WESTERN ILLINOIS CORRECTIONAL CENTER</td>\n      <td>IN CUSTODY</td>\n      <td>WESTERN ILLINOIS</td>\n      <td>NaN</td>\n      <td>NaN</td>\n      <td>NaN</td>\n    </tr>\n    <tr>\n      <th>4</th>\n      <td>A01054</td>\n      <td>TIPTON, DARNELL</td>\n      <td>03/25/1954</td>\n      <td>166.0</td>\n      <td>Salt and Pepper</td>\n      <td>Male</td>\n      <td>67.0</td>\n      <td>Black</td>\n      <td>Brown</td>\n      <td>12/23/1988</td>\n      <td>...</td>\n      <td>08/14/2068</td>\n      <td>NaN</td>\n      <td>NaN</td>\n      <td>NaN</td>\n      <td>MENARD CORRECTIONAL CENTER</td>\n      <td>IN CUSTODY</td>\n      <td>MENARD</td>\n      <td>True</td>\n      <td>NaN</td>\n      <td>NaN</td>\n    </tr>\n    <tr>\n      <th>...</th>\n      <td>...</td>\n      <td>...</td>\n      <td>...</td>\n      <td>...</td>\n      <td>...</td>\n      <td>...</td>\n      <td>...</td>\n      <td>...</td>\n      <td>...</td>\n      <td>...</td>\n      <td>...</td>\n      <td>...</td>\n      <td>...</td>\n      <td>...</td>\n      <td>...</td>\n      <td>...</td>\n      <td>...</td>\n      <td>...</td>\n      <td>...</td>\n      <td>...</td>\n      <td>...</td>\n    </tr>\n    <tr>\n      <th>61105</th>\n      <td>Y25363</td>\n      <td>RANEY, JEFFERY D.</td>\n      <td>05/15/1986</td>\n      <td>170.0</td>\n      <td>Brown</td>\n      <td>Male</td>\n      <td>71.0</td>\n      <td>White</td>\n      <td>Brown</td>\n      <td>10/25/2017</td>\n      <td>...</td>\n      <td>07/05/2019</td>\n      <td>07/05/2018</td>\n      <td>NaN</td>\n      <td>NaN</td>\n      <td>SOUTHWESTERN CORRECTIONAL CENTER</td>\n      <td>PAROLE</td>\n      <td>PAROLE DISTRICT 5</td>\n      <td>NaN</td>\n      <td>NaN</td>\n      <td>NaN</td>\n    </tr>\n    <tr>\n      <th>61106</th>\n      <td>Y25364</td>\n      <td>CALDWELL, KIMBERLY D.</td>\n      <td>02/23/1972</td>\n      <td>112.0</td>\n      <td>Brown</td>\n      <td>Female</td>\n      <td>62.0</td>\n      <td>White</td>\n      <td>Green</td>\n      <td>10/25/2017</td>\n      <td>...</td>\n      <td>TO BE DETERMINED</td>\n      <td>10/25/2017</td>\n      <td>NaN</td>\n      <td>NaN</td>\n      <td>LOGAN CORRECTIONAL CENTER</td>\n      <td>ABSCONDER</td>\n      <td>PAROLE</td>\n      <td>NaN</td>\n      <td>NaN</td>\n      <td>NaN</td>\n    </tr>\n    <tr>\n      <th>61107</th>\n      <td>Y25365</td>\n      <td>WEIGAND, KARLEE R.</td>\n      <td>06/16/1992</td>\n      <td>158.0</td>\n      <td>Brown</td>\n      <td>Female</td>\n      <td>63.0</td>\n      <td>White</td>\n      <td>Brown</td>\n      <td>10/25/2017</td>\n      <td>...</td>\n      <td>04/07/2020</td>\n      <td>04/07/2018</td>\n      <td>NaN</td>\n      <td>NaN</td>\n      <td>VIENNA CORRECTIONAL CENTER</td>\n      <td>PAROLE</td>\n      <td>PAROLE DISTRICT 2</td>\n      <td>NaN</td>\n      <td>NaN</td>\n      <td>NaN</td>\n    </tr>\n    <tr>\n      <th>61108</th>\n      <td>Y25366</td>\n      <td>CROY, DAVID W.</td>\n      <td>03/04/1949</td>\n      <td>220.0</td>\n      <td>Gray or Partially Gray</td>\n      <td>Male</td>\n      <td>67.0</td>\n      <td>White</td>\n      <td>Blue</td>\n      <td>10/25/2017</td>\n      <td>...</td>\n      <td>03/22/2025</td>\n      <td>NaN</td>\n      <td>NaN</td>\n      <td>NaN</td>\n      <td>ROBINSON CORRECTIONAL CENTER</td>\n      <td>IN CUSTODY</td>\n      <td>ROBINSON</td>\n      <td>NaN</td>\n      <td>NaN</td>\n      <td>NaN</td>\n    </tr>\n    <tr>\n      <th>61109</th>\n      <td>Y25367</td>\n      <td>BROWN, DANDRE R.</td>\n      <td>06/18</td>\n      <td>NaN</td>\n      <td>NaN</td>\n      <td>NaN</td>\n      <td>NaN</td>\n      <td>NaN</td>\n      <td>NaN</td>\n      <td>NaN</td>\n      <td>...</td>\n      <td>NaN</td>\n      <td>NaN</td>\n      <td>NaN</td>\n      <td>NaN</td>\n      <td>NaN</td>\n      <td>NaN</td>\n      <td>NaN</td>\n      <td>NaN</td>\n      <td>NaN</td>\n      <td>NaN</td>\n    </tr>\n  </tbody>\n</table>\n<p>61110 rows × 22 columns</p>\n</div>"
     },
     "execution_count": 20,
     "metadata": {},
     "output_type": "execute_result"
    }
   ],
   "source": [
    "import pandas as pd\n",
    "import numpy as np\n",
    "\n",
    "df = pd.read_csv('data/text data/person.csv', sep=';')\n",
    "df\n",
    "    "
   ],
   "metadata": {
    "collapsed": false,
    "ExecuteTime": {
     "end_time": "2024-07-03T20:22:40.112084200Z",
     "start_time": "2024-07-03T20:22:39.817421700Z"
    }
   },
   "id": "aec28eb149344c2f"
  },
  {
   "cell_type": "code",
   "execution_count": 21,
   "outputs": [
    {
     "data": {
      "text/plain": "           id                   name date_of_birth  weight  \\\n0      A00147       MCCUTCHEON, JOHN    06/14/1949   185.0   \n1      A00220          WALKER, ISIAH    03/30/1957   155.0   \n2      A00360           BELL, HOWARD    12/18/1946   167.0   \n3      A00367        GARVIN, RAYMOND    01/12/1954   245.0   \n4      A01054        TIPTON, DARNELL    03/25/1954   166.0   \n...       ...                    ...           ...     ...   \n61105  Y25363      RANEY, JEFFERY D.    05/15/1986   170.0   \n61106  Y25364  CALDWELL, KIMBERLY D.    02/23/1972   112.0   \n61107  Y25365     WEIGAND, KARLEE R.    06/16/1992   158.0   \n61108  Y25366         CROY, DAVID W.    03/04/1949   220.0   \n61109  Y25367       BROWN, DANDRE R.         06/18     NaN   \n\n                         hair     sex  height   race   eyes admission_date  \\\n0                       Brown    Male    67.0  White   Blue     02/16/1983   \n1                       Black    Male    73.0  Black  Brown     05/19/2016   \n2      Gray or Partially Gray    Male    69.0  White  Green     02/26/1988   \n3                       Black    Male    72.0  Black  Brown     11/09/2017   \n4             Salt and Pepper    Male    67.0  Black  Brown     12/23/1988   \n...                       ...     ...     ...    ...    ...            ...   \n61105                   Brown    Male    71.0  White  Brown     10/25/2017   \n61106                   Brown  Female    62.0  White  Green     10/25/2017   \n61107                   Brown  Female    63.0  White  Brown     10/25/2017   \n61108  Gray or Partially Gray    Male    67.0  White   Blue     10/25/2017   \n61109                     NaN     NaN     NaN    NaN    NaN            NaN   \n\n       ... projected_discharge_date parole_date electronic_detention_date  \\\n0      ...               10/06/2036         NaN                       NaN   \n1      ...                      NaN         NaN                       NaN   \n2      ...         TO BE DETERMINED  10/02/2017                       NaN   \n3      ...               11/20/2020         NaN                       NaN   \n4      ...               08/14/2068         NaN                       NaN   \n...    ...                      ...         ...                       ...   \n61105  ...               07/05/2019  07/05/2018                       NaN   \n61106  ...         TO BE DETERMINED  10/25/2017                       NaN   \n61107  ...               04/07/2020  04/07/2018                       NaN   \n61108  ...               03/22/2025         NaN                       NaN   \n61109  ...                      NaN         NaN                       NaN   \n\n      discharge_date                    parent_institution   offender_status  \\\n0                NaN             DIXON CORRECTIONAL CENTER        IN CUSTODY   \n1                NaN        STATEVILLE CORRECTIONAL CENTER  NON-IDOC CUSTODY   \n2                NaN     PINCKNEYVILLE CORRECTIONAL CENTER            PAROLE   \n3                NaN  WESTERN ILLINOIS CORRECTIONAL CENTER        IN CUSTODY   \n4                NaN            MENARD CORRECTIONAL CENTER        IN CUSTODY   \n...              ...                                   ...               ...   \n61105            NaN      SOUTHWESTERN CORRECTIONAL CENTER            PAROLE   \n61106            NaN             LOGAN CORRECTIONAL CENTER         ABSCONDER   \n61107            NaN            VIENNA CORRECTIONAL CENTER            PAROLE   \n61108            NaN          ROBINSON CORRECTIONAL CENTER        IN CUSTODY   \n61109            NaN                                   NaN               NaN   \n\n                        location sex_offender_registry_required  \\\n0                          DIXON                           True   \n1      ILL/OTH STATE/FED CONCURR                            NaN   \n2              PAROLE DISTRICT 1                            NaN   \n3               WESTERN ILLINOIS                            NaN   \n4                         MENARD                           True   \n...                          ...                            ...   \n61105          PAROLE DISTRICT 5                            NaN   \n61106                     PAROLE                            NaN   \n61107          PAROLE DISTRICT 2                            NaN   \n61108                   ROBINSON                            NaN   \n61109                        NaN                            NaN   \n\n                                                   alias Unnamed: 21  \n0                                                    NaN         NaN  \n1                                                    NaN         NaN  \n2      HOWARD R BELL | DONALD  BROADSTONE | RONALD  B...         NaN  \n3                                                    NaN         NaN  \n4                                                    NaN         NaN  \n...                                                  ...         ...  \n61105                                                NaN         NaN  \n61106                                                NaN         NaN  \n61107                                                NaN         NaN  \n61108                                                NaN         NaN  \n61109                                                NaN         NaN  \n\n[61110 rows x 22 columns]",
      "text/html": "<div>\n<style scoped>\n    .dataframe tbody tr th:only-of-type {\n        vertical-align: middle;\n    }\n\n    .dataframe tbody tr th {\n        vertical-align: top;\n    }\n\n    .dataframe thead th {\n        text-align: right;\n    }\n</style>\n<table border=\"1\" class=\"dataframe\">\n  <thead>\n    <tr style=\"text-align: right;\">\n      <th></th>\n      <th>id</th>\n      <th>name</th>\n      <th>date_of_birth</th>\n      <th>weight</th>\n      <th>hair</th>\n      <th>sex</th>\n      <th>height</th>\n      <th>race</th>\n      <th>eyes</th>\n      <th>admission_date</th>\n      <th>...</th>\n      <th>projected_discharge_date</th>\n      <th>parole_date</th>\n      <th>electronic_detention_date</th>\n      <th>discharge_date</th>\n      <th>parent_institution</th>\n      <th>offender_status</th>\n      <th>location</th>\n      <th>sex_offender_registry_required</th>\n      <th>alias</th>\n      <th>Unnamed: 21</th>\n    </tr>\n  </thead>\n  <tbody>\n    <tr>\n      <th>0</th>\n      <td>A00147</td>\n      <td>MCCUTCHEON, JOHN</td>\n      <td>06/14/1949</td>\n      <td>185.0</td>\n      <td>Brown</td>\n      <td>Male</td>\n      <td>67.0</td>\n      <td>White</td>\n      <td>Blue</td>\n      <td>02/16/1983</td>\n      <td>...</td>\n      <td>10/06/2036</td>\n      <td>NaN</td>\n      <td>NaN</td>\n      <td>NaN</td>\n      <td>DIXON CORRECTIONAL CENTER</td>\n      <td>IN CUSTODY</td>\n      <td>DIXON</td>\n      <td>True</td>\n      <td>NaN</td>\n      <td>NaN</td>\n    </tr>\n    <tr>\n      <th>1</th>\n      <td>A00220</td>\n      <td>WALKER, ISIAH</td>\n      <td>03/30/1957</td>\n      <td>155.0</td>\n      <td>Black</td>\n      <td>Male</td>\n      <td>73.0</td>\n      <td>Black</td>\n      <td>Brown</td>\n      <td>05/19/2016</td>\n      <td>...</td>\n      <td>NaN</td>\n      <td>NaN</td>\n      <td>NaN</td>\n      <td>NaN</td>\n      <td>STATEVILLE CORRECTIONAL CENTER</td>\n      <td>NON-IDOC CUSTODY</td>\n      <td>ILL/OTH STATE/FED CONCURR</td>\n      <td>NaN</td>\n      <td>NaN</td>\n      <td>NaN</td>\n    </tr>\n    <tr>\n      <th>2</th>\n      <td>A00360</td>\n      <td>BELL, HOWARD</td>\n      <td>12/18/1946</td>\n      <td>167.0</td>\n      <td>Gray or Partially Gray</td>\n      <td>Male</td>\n      <td>69.0</td>\n      <td>White</td>\n      <td>Green</td>\n      <td>02/26/1988</td>\n      <td>...</td>\n      <td>TO BE DETERMINED</td>\n      <td>10/02/2017</td>\n      <td>NaN</td>\n      <td>NaN</td>\n      <td>PINCKNEYVILLE CORRECTIONAL CENTER</td>\n      <td>PAROLE</td>\n      <td>PAROLE DISTRICT 1</td>\n      <td>NaN</td>\n      <td>HOWARD R BELL | DONALD  BROADSTONE | RONALD  B...</td>\n      <td>NaN</td>\n    </tr>\n    <tr>\n      <th>3</th>\n      <td>A00367</td>\n      <td>GARVIN, RAYMOND</td>\n      <td>01/12/1954</td>\n      <td>245.0</td>\n      <td>Black</td>\n      <td>Male</td>\n      <td>72.0</td>\n      <td>Black</td>\n      <td>Brown</td>\n      <td>11/09/2017</td>\n      <td>...</td>\n      <td>11/20/2020</td>\n      <td>NaN</td>\n      <td>NaN</td>\n      <td>NaN</td>\n      <td>WESTERN ILLINOIS CORRECTIONAL CENTER</td>\n      <td>IN CUSTODY</td>\n      <td>WESTERN ILLINOIS</td>\n      <td>NaN</td>\n      <td>NaN</td>\n      <td>NaN</td>\n    </tr>\n    <tr>\n      <th>4</th>\n      <td>A01054</td>\n      <td>TIPTON, DARNELL</td>\n      <td>03/25/1954</td>\n      <td>166.0</td>\n      <td>Salt and Pepper</td>\n      <td>Male</td>\n      <td>67.0</td>\n      <td>Black</td>\n      <td>Brown</td>\n      <td>12/23/1988</td>\n      <td>...</td>\n      <td>08/14/2068</td>\n      <td>NaN</td>\n      <td>NaN</td>\n      <td>NaN</td>\n      <td>MENARD CORRECTIONAL CENTER</td>\n      <td>IN CUSTODY</td>\n      <td>MENARD</td>\n      <td>True</td>\n      <td>NaN</td>\n      <td>NaN</td>\n    </tr>\n    <tr>\n      <th>...</th>\n      <td>...</td>\n      <td>...</td>\n      <td>...</td>\n      <td>...</td>\n      <td>...</td>\n      <td>...</td>\n      <td>...</td>\n      <td>...</td>\n      <td>...</td>\n      <td>...</td>\n      <td>...</td>\n      <td>...</td>\n      <td>...</td>\n      <td>...</td>\n      <td>...</td>\n      <td>...</td>\n      <td>...</td>\n      <td>...</td>\n      <td>...</td>\n      <td>...</td>\n      <td>...</td>\n    </tr>\n    <tr>\n      <th>61105</th>\n      <td>Y25363</td>\n      <td>RANEY, JEFFERY D.</td>\n      <td>05/15/1986</td>\n      <td>170.0</td>\n      <td>Brown</td>\n      <td>Male</td>\n      <td>71.0</td>\n      <td>White</td>\n      <td>Brown</td>\n      <td>10/25/2017</td>\n      <td>...</td>\n      <td>07/05/2019</td>\n      <td>07/05/2018</td>\n      <td>NaN</td>\n      <td>NaN</td>\n      <td>SOUTHWESTERN CORRECTIONAL CENTER</td>\n      <td>PAROLE</td>\n      <td>PAROLE DISTRICT 5</td>\n      <td>NaN</td>\n      <td>NaN</td>\n      <td>NaN</td>\n    </tr>\n    <tr>\n      <th>61106</th>\n      <td>Y25364</td>\n      <td>CALDWELL, KIMBERLY D.</td>\n      <td>02/23/1972</td>\n      <td>112.0</td>\n      <td>Brown</td>\n      <td>Female</td>\n      <td>62.0</td>\n      <td>White</td>\n      <td>Green</td>\n      <td>10/25/2017</td>\n      <td>...</td>\n      <td>TO BE DETERMINED</td>\n      <td>10/25/2017</td>\n      <td>NaN</td>\n      <td>NaN</td>\n      <td>LOGAN CORRECTIONAL CENTER</td>\n      <td>ABSCONDER</td>\n      <td>PAROLE</td>\n      <td>NaN</td>\n      <td>NaN</td>\n      <td>NaN</td>\n    </tr>\n    <tr>\n      <th>61107</th>\n      <td>Y25365</td>\n      <td>WEIGAND, KARLEE R.</td>\n      <td>06/16/1992</td>\n      <td>158.0</td>\n      <td>Brown</td>\n      <td>Female</td>\n      <td>63.0</td>\n      <td>White</td>\n      <td>Brown</td>\n      <td>10/25/2017</td>\n      <td>...</td>\n      <td>04/07/2020</td>\n      <td>04/07/2018</td>\n      <td>NaN</td>\n      <td>NaN</td>\n      <td>VIENNA CORRECTIONAL CENTER</td>\n      <td>PAROLE</td>\n      <td>PAROLE DISTRICT 2</td>\n      <td>NaN</td>\n      <td>NaN</td>\n      <td>NaN</td>\n    </tr>\n    <tr>\n      <th>61108</th>\n      <td>Y25366</td>\n      <td>CROY, DAVID W.</td>\n      <td>03/04/1949</td>\n      <td>220.0</td>\n      <td>Gray or Partially Gray</td>\n      <td>Male</td>\n      <td>67.0</td>\n      <td>White</td>\n      <td>Blue</td>\n      <td>10/25/2017</td>\n      <td>...</td>\n      <td>03/22/2025</td>\n      <td>NaN</td>\n      <td>NaN</td>\n      <td>NaN</td>\n      <td>ROBINSON CORRECTIONAL CENTER</td>\n      <td>IN CUSTODY</td>\n      <td>ROBINSON</td>\n      <td>NaN</td>\n      <td>NaN</td>\n      <td>NaN</td>\n    </tr>\n    <tr>\n      <th>61109</th>\n      <td>Y25367</td>\n      <td>BROWN, DANDRE R.</td>\n      <td>06/18</td>\n      <td>NaN</td>\n      <td>NaN</td>\n      <td>NaN</td>\n      <td>NaN</td>\n      <td>NaN</td>\n      <td>NaN</td>\n      <td>NaN</td>\n      <td>...</td>\n      <td>NaN</td>\n      <td>NaN</td>\n      <td>NaN</td>\n      <td>NaN</td>\n      <td>NaN</td>\n      <td>NaN</td>\n      <td>NaN</td>\n      <td>NaN</td>\n      <td>NaN</td>\n      <td>NaN</td>\n    </tr>\n  </tbody>\n</table>\n<p>61110 rows × 22 columns</p>\n</div>"
     },
     "execution_count": 21,
     "metadata": {},
     "output_type": "execute_result"
    }
   ],
   "source": [
    "df"
   ],
   "metadata": {
    "collapsed": false,
    "ExecuteTime": {
     "end_time": "2024-07-03T20:22:43.095694100Z",
     "start_time": "2024-07-03T20:22:43.029360Z"
    }
   },
   "id": "99eeb502d6f93048"
  },
  {
   "cell_type": "code",
   "execution_count": 22,
   "outputs": [],
   "source": [
    "array = np.loadtxt(f\"data/text data/Photo.txt\", dtype='str')"
   ],
   "metadata": {
    "collapsed": false,
    "ExecuteTime": {
     "end_time": "2024-07-03T20:22:48.894453400Z",
     "start_time": "2024-07-03T20:22:48.885478600Z"
    }
   },
   "id": "349cee64d605d1d5"
  },
  {
   "cell_type": "code",
   "execution_count": 23,
   "outputs": [
    {
     "data": {
      "text/plain": "array(['A00220.jpg', 'A15763.jpg', 'A56106.jpg', ..., 'Y32531.jpg',\n       'Y32558.jpg', 'Y32562.jpg'], dtype='<U10')"
     },
     "execution_count": 23,
     "metadata": {},
     "output_type": "execute_result"
    }
   ],
   "source": [
    "array"
   ],
   "metadata": {
    "collapsed": false,
    "ExecuteTime": {
     "end_time": "2024-07-03T20:22:49.866662400Z",
     "start_time": "2024-07-03T20:22:49.856348100Z"
    }
   },
   "id": "5def7cd196967c9c"
  },
  {
   "cell_type": "code",
   "execution_count": 24,
   "outputs": [],
   "source": [
    "for i in range(len(array)):\n",
    "    array[i] = array[i][:-4]"
   ],
   "metadata": {
    "collapsed": false,
    "ExecuteTime": {
     "end_time": "2024-07-03T20:22:52.449540400Z",
     "start_time": "2024-07-03T20:22:52.444555600Z"
    }
   },
   "id": "9ee5cccf6a12063c"
  },
  {
   "cell_type": "code",
   "execution_count": 25,
   "outputs": [
    {
     "data": {
      "text/plain": "           id                   name date_of_birth  weight  \\\n0      A00147       MCCUTCHEON, JOHN    06/14/1949   185.0   \n2      A00360           BELL, HOWARD    12/18/1946   167.0   \n3      A00367        GARVIN, RAYMOND    01/12/1954   245.0   \n4      A01054        TIPTON, DARNELL    03/25/1954   166.0   \n5      A01072         BRISBON, HENRY    01/12/1956   195.0   \n...       ...                    ...           ...     ...   \n61105  Y25363      RANEY, JEFFERY D.    05/15/1986   170.0   \n61106  Y25364  CALDWELL, KIMBERLY D.    02/23/1972   112.0   \n61107  Y25365     WEIGAND, KARLEE R.    06/16/1992   158.0   \n61108  Y25366         CROY, DAVID W.    03/04/1949   220.0   \n61109  Y25367       BROWN, DANDRE R.         06/18     NaN   \n\n                         hair     sex  height   race   eyes admission_date  \\\n0                       Brown    Male    67.0  White   Blue     02/16/1983   \n2      Gray or Partially Gray    Male    69.0  White  Green     02/26/1988   \n3                       Black    Male    72.0  Black  Brown     11/09/2017   \n4             Salt and Pepper    Male    67.0  Black  Brown     12/23/1988   \n5                       Black    Male    69.0  Black  Brown     02/22/1974   \n...                       ...     ...     ...    ...    ...            ...   \n61105                   Brown    Male    71.0  White  Brown     10/25/2017   \n61106                   Brown  Female    62.0  White  Green     10/25/2017   \n61107                   Brown  Female    63.0  White  Brown     10/25/2017   \n61108  Gray or Partially Gray    Male    67.0  White   Blue     10/25/2017   \n61109                     NaN     NaN     NaN    NaN    NaN            NaN   \n\n       ... projected_discharge_date parole_date electronic_detention_date  \\\n0      ...               10/06/2036         NaN                       NaN   \n2      ...         TO BE DETERMINED  10/02/2017                       NaN   \n3      ...               11/20/2020         NaN                       NaN   \n4      ...               08/14/2068         NaN                       NaN   \n5      ...               INELIGIBLE         NaN                       NaN   \n...    ...                      ...         ...                       ...   \n61105  ...               07/05/2019  07/05/2018                       NaN   \n61106  ...         TO BE DETERMINED  10/25/2017                       NaN   \n61107  ...               04/07/2020  04/07/2018                       NaN   \n61108  ...               03/22/2025         NaN                       NaN   \n61109  ...                      NaN         NaN                       NaN   \n\n      discharge_date                    parent_institution  offender_status  \\\n0                NaN             DIXON CORRECTIONAL CENTER       IN CUSTODY   \n2                NaN     PINCKNEYVILLE CORRECTIONAL CENTER           PAROLE   \n3                NaN  WESTERN ILLINOIS CORRECTIONAL CENTER       IN CUSTODY   \n4                NaN            MENARD CORRECTIONAL CENTER       IN CUSTODY   \n5                NaN           PONTIAC CORRECTIONAL CENTER       IN CUSTODY   \n...              ...                                   ...              ...   \n61105            NaN      SOUTHWESTERN CORRECTIONAL CENTER           PAROLE   \n61106            NaN             LOGAN CORRECTIONAL CENTER        ABSCONDER   \n61107            NaN            VIENNA CORRECTIONAL CENTER           PAROLE   \n61108            NaN          ROBINSON CORRECTIONAL CENTER       IN CUSTODY   \n61109            NaN                                   NaN              NaN   \n\n                location sex_offender_registry_required  \\\n0                  DIXON                           True   \n2      PAROLE DISTRICT 1                            NaN   \n3       WESTERN ILLINOIS                            NaN   \n4                 MENARD                           True   \n5                PONTIAC                            NaN   \n...                  ...                            ...   \n61105  PAROLE DISTRICT 5                            NaN   \n61106             PAROLE                            NaN   \n61107  PAROLE DISTRICT 2                            NaN   \n61108           ROBINSON                            NaN   \n61109                NaN                            NaN   \n\n                                                   alias Unnamed: 21  \n0                                                    NaN         NaN  \n2      HOWARD R BELL | DONALD  BROADSTONE | RONALD  B...         NaN  \n3                                                    NaN         NaN  \n4                                                    NaN         NaN  \n5                                                    NaN         NaN  \n...                                                  ...         ...  \n61105                                                NaN         NaN  \n61106                                                NaN         NaN  \n61107                                                NaN         NaN  \n61108                                                NaN         NaN  \n61109                                                NaN         NaN  \n\n[60140 rows x 22 columns]",
      "text/html": "<div>\n<style scoped>\n    .dataframe tbody tr th:only-of-type {\n        vertical-align: middle;\n    }\n\n    .dataframe tbody tr th {\n        vertical-align: top;\n    }\n\n    .dataframe thead th {\n        text-align: right;\n    }\n</style>\n<table border=\"1\" class=\"dataframe\">\n  <thead>\n    <tr style=\"text-align: right;\">\n      <th></th>\n      <th>id</th>\n      <th>name</th>\n      <th>date_of_birth</th>\n      <th>weight</th>\n      <th>hair</th>\n      <th>sex</th>\n      <th>height</th>\n      <th>race</th>\n      <th>eyes</th>\n      <th>admission_date</th>\n      <th>...</th>\n      <th>projected_discharge_date</th>\n      <th>parole_date</th>\n      <th>electronic_detention_date</th>\n      <th>discharge_date</th>\n      <th>parent_institution</th>\n      <th>offender_status</th>\n      <th>location</th>\n      <th>sex_offender_registry_required</th>\n      <th>alias</th>\n      <th>Unnamed: 21</th>\n    </tr>\n  </thead>\n  <tbody>\n    <tr>\n      <th>0</th>\n      <td>A00147</td>\n      <td>MCCUTCHEON, JOHN</td>\n      <td>06/14/1949</td>\n      <td>185.0</td>\n      <td>Brown</td>\n      <td>Male</td>\n      <td>67.0</td>\n      <td>White</td>\n      <td>Blue</td>\n      <td>02/16/1983</td>\n      <td>...</td>\n      <td>10/06/2036</td>\n      <td>NaN</td>\n      <td>NaN</td>\n      <td>NaN</td>\n      <td>DIXON CORRECTIONAL CENTER</td>\n      <td>IN CUSTODY</td>\n      <td>DIXON</td>\n      <td>True</td>\n      <td>NaN</td>\n      <td>NaN</td>\n    </tr>\n    <tr>\n      <th>2</th>\n      <td>A00360</td>\n      <td>BELL, HOWARD</td>\n      <td>12/18/1946</td>\n      <td>167.0</td>\n      <td>Gray or Partially Gray</td>\n      <td>Male</td>\n      <td>69.0</td>\n      <td>White</td>\n      <td>Green</td>\n      <td>02/26/1988</td>\n      <td>...</td>\n      <td>TO BE DETERMINED</td>\n      <td>10/02/2017</td>\n      <td>NaN</td>\n      <td>NaN</td>\n      <td>PINCKNEYVILLE CORRECTIONAL CENTER</td>\n      <td>PAROLE</td>\n      <td>PAROLE DISTRICT 1</td>\n      <td>NaN</td>\n      <td>HOWARD R BELL | DONALD  BROADSTONE | RONALD  B...</td>\n      <td>NaN</td>\n    </tr>\n    <tr>\n      <th>3</th>\n      <td>A00367</td>\n      <td>GARVIN, RAYMOND</td>\n      <td>01/12/1954</td>\n      <td>245.0</td>\n      <td>Black</td>\n      <td>Male</td>\n      <td>72.0</td>\n      <td>Black</td>\n      <td>Brown</td>\n      <td>11/09/2017</td>\n      <td>...</td>\n      <td>11/20/2020</td>\n      <td>NaN</td>\n      <td>NaN</td>\n      <td>NaN</td>\n      <td>WESTERN ILLINOIS CORRECTIONAL CENTER</td>\n      <td>IN CUSTODY</td>\n      <td>WESTERN ILLINOIS</td>\n      <td>NaN</td>\n      <td>NaN</td>\n      <td>NaN</td>\n    </tr>\n    <tr>\n      <th>4</th>\n      <td>A01054</td>\n      <td>TIPTON, DARNELL</td>\n      <td>03/25/1954</td>\n      <td>166.0</td>\n      <td>Salt and Pepper</td>\n      <td>Male</td>\n      <td>67.0</td>\n      <td>Black</td>\n      <td>Brown</td>\n      <td>12/23/1988</td>\n      <td>...</td>\n      <td>08/14/2068</td>\n      <td>NaN</td>\n      <td>NaN</td>\n      <td>NaN</td>\n      <td>MENARD CORRECTIONAL CENTER</td>\n      <td>IN CUSTODY</td>\n      <td>MENARD</td>\n      <td>True</td>\n      <td>NaN</td>\n      <td>NaN</td>\n    </tr>\n    <tr>\n      <th>5</th>\n      <td>A01072</td>\n      <td>BRISBON, HENRY</td>\n      <td>01/12/1956</td>\n      <td>195.0</td>\n      <td>Black</td>\n      <td>Male</td>\n      <td>69.0</td>\n      <td>Black</td>\n      <td>Brown</td>\n      <td>02/22/1974</td>\n      <td>...</td>\n      <td>INELIGIBLE</td>\n      <td>NaN</td>\n      <td>NaN</td>\n      <td>NaN</td>\n      <td>PONTIAC CORRECTIONAL CENTER</td>\n      <td>IN CUSTODY</td>\n      <td>PONTIAC</td>\n      <td>NaN</td>\n      <td>NaN</td>\n      <td>NaN</td>\n    </tr>\n    <tr>\n      <th>...</th>\n      <td>...</td>\n      <td>...</td>\n      <td>...</td>\n      <td>...</td>\n      <td>...</td>\n      <td>...</td>\n      <td>...</td>\n      <td>...</td>\n      <td>...</td>\n      <td>...</td>\n      <td>...</td>\n      <td>...</td>\n      <td>...</td>\n      <td>...</td>\n      <td>...</td>\n      <td>...</td>\n      <td>...</td>\n      <td>...</td>\n      <td>...</td>\n      <td>...</td>\n      <td>...</td>\n    </tr>\n    <tr>\n      <th>61105</th>\n      <td>Y25363</td>\n      <td>RANEY, JEFFERY D.</td>\n      <td>05/15/1986</td>\n      <td>170.0</td>\n      <td>Brown</td>\n      <td>Male</td>\n      <td>71.0</td>\n      <td>White</td>\n      <td>Brown</td>\n      <td>10/25/2017</td>\n      <td>...</td>\n      <td>07/05/2019</td>\n      <td>07/05/2018</td>\n      <td>NaN</td>\n      <td>NaN</td>\n      <td>SOUTHWESTERN CORRECTIONAL CENTER</td>\n      <td>PAROLE</td>\n      <td>PAROLE DISTRICT 5</td>\n      <td>NaN</td>\n      <td>NaN</td>\n      <td>NaN</td>\n    </tr>\n    <tr>\n      <th>61106</th>\n      <td>Y25364</td>\n      <td>CALDWELL, KIMBERLY D.</td>\n      <td>02/23/1972</td>\n      <td>112.0</td>\n      <td>Brown</td>\n      <td>Female</td>\n      <td>62.0</td>\n      <td>White</td>\n      <td>Green</td>\n      <td>10/25/2017</td>\n      <td>...</td>\n      <td>TO BE DETERMINED</td>\n      <td>10/25/2017</td>\n      <td>NaN</td>\n      <td>NaN</td>\n      <td>LOGAN CORRECTIONAL CENTER</td>\n      <td>ABSCONDER</td>\n      <td>PAROLE</td>\n      <td>NaN</td>\n      <td>NaN</td>\n      <td>NaN</td>\n    </tr>\n    <tr>\n      <th>61107</th>\n      <td>Y25365</td>\n      <td>WEIGAND, KARLEE R.</td>\n      <td>06/16/1992</td>\n      <td>158.0</td>\n      <td>Brown</td>\n      <td>Female</td>\n      <td>63.0</td>\n      <td>White</td>\n      <td>Brown</td>\n      <td>10/25/2017</td>\n      <td>...</td>\n      <td>04/07/2020</td>\n      <td>04/07/2018</td>\n      <td>NaN</td>\n      <td>NaN</td>\n      <td>VIENNA CORRECTIONAL CENTER</td>\n      <td>PAROLE</td>\n      <td>PAROLE DISTRICT 2</td>\n      <td>NaN</td>\n      <td>NaN</td>\n      <td>NaN</td>\n    </tr>\n    <tr>\n      <th>61108</th>\n      <td>Y25366</td>\n      <td>CROY, DAVID W.</td>\n      <td>03/04/1949</td>\n      <td>220.0</td>\n      <td>Gray or Partially Gray</td>\n      <td>Male</td>\n      <td>67.0</td>\n      <td>White</td>\n      <td>Blue</td>\n      <td>10/25/2017</td>\n      <td>...</td>\n      <td>03/22/2025</td>\n      <td>NaN</td>\n      <td>NaN</td>\n      <td>NaN</td>\n      <td>ROBINSON CORRECTIONAL CENTER</td>\n      <td>IN CUSTODY</td>\n      <td>ROBINSON</td>\n      <td>NaN</td>\n      <td>NaN</td>\n      <td>NaN</td>\n    </tr>\n    <tr>\n      <th>61109</th>\n      <td>Y25367</td>\n      <td>BROWN, DANDRE R.</td>\n      <td>06/18</td>\n      <td>NaN</td>\n      <td>NaN</td>\n      <td>NaN</td>\n      <td>NaN</td>\n      <td>NaN</td>\n      <td>NaN</td>\n      <td>NaN</td>\n      <td>...</td>\n      <td>NaN</td>\n      <td>NaN</td>\n      <td>NaN</td>\n      <td>NaN</td>\n      <td>NaN</td>\n      <td>NaN</td>\n      <td>NaN</td>\n      <td>NaN</td>\n      <td>NaN</td>\n      <td>NaN</td>\n    </tr>\n  </tbody>\n</table>\n<p>60140 rows × 22 columns</p>\n</div>"
     },
     "execution_count": 25,
     "metadata": {},
     "output_type": "execute_result"
    }
   ],
   "source": [
    "df_cleaned = df[~df['id'].isin(array)]\n",
    "df_cleaned"
   ],
   "metadata": {
    "collapsed": false,
    "ExecuteTime": {
     "end_time": "2024-07-03T20:22:53.662159200Z",
     "start_time": "2024-07-03T20:22:53.589453900Z"
    }
   },
   "id": "47fd8cef2a2d108c"
  },
  {
   "cell_type": "code",
   "execution_count": 27,
   "outputs": [],
   "source": [
    "hair_type = df_cleaned['hair'].value_counts()\n"
   ],
   "metadata": {
    "collapsed": false,
    "ExecuteTime": {
     "end_time": "2024-07-03T20:27:13.866235500Z",
     "start_time": "2024-07-03T20:27:13.853271100Z"
    }
   },
   "id": "c1f2afa107f3c2a1"
  },
  {
   "cell_type": "code",
   "execution_count": 28,
   "outputs": [
    {
     "data": {
      "text/plain": "hair\nBlack                     39137\nBrown                     14707\nBlonde or Strawberry       2425\nGray or Partially Gray     2292\nRed or Auburn               617\nBald                        554\nSalt and Pepper             207\nNot Available               137\nWhite                        58\nSandy                         5\nName: count, dtype: int64"
     },
     "execution_count": 28,
     "metadata": {},
     "output_type": "execute_result"
    }
   ],
   "source": [
    "hair_type"
   ],
   "metadata": {
    "collapsed": false,
    "ExecuteTime": {
     "end_time": "2024-07-03T20:27:20.781863300Z",
     "start_time": "2024-07-03T20:27:20.772793Z"
    }
   },
   "id": "4191591fe31365e4"
  },
  {
   "cell_type": "code",
   "execution_count": 29,
   "outputs": [],
   "source": [
    "sexes = df_cleaned['sex'].value_counts()"
   ],
   "metadata": {
    "collapsed": false,
    "ExecuteTime": {
     "end_time": "2024-07-03T20:28:49.960893Z",
     "start_time": "2024-07-03T20:28:49.933336500Z"
    }
   },
   "id": "9e77d2c5c67e10e5"
  },
  {
   "cell_type": "code",
   "execution_count": 30,
   "outputs": [
    {
     "data": {
      "text/plain": "sex\nMale      56477\nFemale     3662\nName: count, dtype: int64"
     },
     "execution_count": 30,
     "metadata": {},
     "output_type": "execute_result"
    }
   ],
   "source": [
    "sexes"
   ],
   "metadata": {
    "collapsed": false,
    "ExecuteTime": {
     "end_time": "2024-07-03T20:28:54.773962200Z",
     "start_time": "2024-07-03T20:28:54.764986900Z"
    }
   },
   "id": "929dac41cf0bcc5f"
  },
  {
   "cell_type": "code",
   "execution_count": 31,
   "outputs": [],
   "source": [
    "races = df_cleaned['race'].value_counts()"
   ],
   "metadata": {
    "collapsed": false,
    "ExecuteTime": {
     "end_time": "2024-07-03T20:29:48.143822700Z",
     "start_time": "2024-07-03T20:29:48.134338200Z"
    }
   },
   "id": "5ab51ae0a93ed48a"
  },
  {
   "cell_type": "code",
   "execution_count": 32,
   "outputs": [
    {
     "data": {
      "text/plain": "race\nBlack          34540\nWhite          17773\nHispanic        7466\nAsian            201\nAmer Indian       88\nBi-Racial         42\nUnknown           29\nName: count, dtype: int64"
     },
     "execution_count": 32,
     "metadata": {},
     "output_type": "execute_result"
    }
   ],
   "source": [
    "races"
   ],
   "metadata": {
    "collapsed": false,
    "ExecuteTime": {
     "end_time": "2024-07-03T20:29:52.813436600Z",
     "start_time": "2024-07-03T20:29:52.803348Z"
    }
   },
   "id": "20fffbfc698ab038"
  }
 ],
 "metadata": {
  "kernelspec": {
   "display_name": "Python 3",
   "language": "python",
   "name": "python3"
  },
  "language_info": {
   "codemirror_mode": {
    "name": "ipython",
    "version": 2
   },
   "file_extension": ".py",
   "mimetype": "text/x-python",
   "name": "python",
   "nbconvert_exporter": "python",
   "pygments_lexer": "ipython2",
   "version": "2.7.6"
  }
 },
 "nbformat": 4,
 "nbformat_minor": 5
}
