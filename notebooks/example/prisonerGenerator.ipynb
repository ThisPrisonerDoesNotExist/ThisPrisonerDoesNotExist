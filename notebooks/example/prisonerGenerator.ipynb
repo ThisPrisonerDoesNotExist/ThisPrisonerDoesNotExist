{
  "nbformat": 4,
  "nbformat_minor": 0,
  "metadata": {
    "colab": {
      "provenance": [],
      "gpuType": "T4"
    },
    "kernelspec": {
      "name": "python3",
      "display_name": "Python 3"
    },
    "language_info": {
      "name": "python"
    },
    "accelerator": "GPU"
  },
  "cells": [
    {
      "cell_type": "markdown",
      "source": [
        "# Example notebook that shows how model works\n",
        "PrisonersGeneratorx64 - generate images of prisoners in 64x64 resolution\n",
        "\n",
        "PrisonersGeneratorx128 - generate images of prisoners in 128x128 resolution"
      ],
      "metadata": {
        "id": "_wnKZuaAk78D"
      }
    },
    {
      "cell_type": "code",
      "execution_count": null,
      "metadata": {
        "id": "Zd-OsoG-ZCp5"
      },
      "outputs": [],
      "source": [
        "# @title Load model { display-mode: \"form\" }\n",
        "%%capture\n",
        "model_name = \"PrisonersGeneratorx64\" # @param [\"PrisonersGeneratorx64\"]\n",
        "!pip install diffusers transformers safetensors pillow torch accelerate\n",
        "!pip install accelerate\n",
        "import torch\n",
        "from diffusers import DDPMPipeline\n",
        "from PIL import Image\n",
        "import os\n",
        "import json\n",
        "from accelerate import Accelerator\n",
        "import cv2\n",
        "from google.colab.patches import cv2_imshow\n",
        "accelerator=Accelerator()\n",
        "pipe = DDPMPipeline.from_pretrained(f\"MGKK/{model_name}\",num_inference_steps=400)\n",
        "pipe.to(accelerator.device)\n",
        "\n",
        "def generate():\n",
        "  image=pipe().images[0]\n",
        "  image.save('prisoner.png')\n",
        "  image = cv2.imread('prisoner.png')\n",
        "  print(\"generated image:\")\n",
        "  display(Image.open('prisoner.png'))\n",
        "  print(\"upscaled image:\")\n",
        "  resized_image = cv2.resize(image, (256, 256), interpolation=cv2.INTER_CUBIC)\n",
        "  cv2_imshow(resized_image)\n",
        "  cv2.waitKey(0)\n",
        "  cv2.destroyAllWindows()"
      ]
    },
    {
      "cell_type": "code",
      "source": [
        "# @title Generate\n",
        "generate()"
      ],
      "metadata": {
        "id": "KUh6tRdEUl17",
        "cellView": "form"
      },
      "execution_count": null,
      "outputs": []
    }
  ]
}
